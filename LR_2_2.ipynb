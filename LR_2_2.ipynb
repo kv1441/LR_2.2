{
  "nbformat": 4,
  "nbformat_minor": 0,
  "metadata": {
    "colab": {
      "provenance": [],
      "authorship_tag": "ABX9TyOY/Kx5X8JpsG7MdY9WMKrh",
      "include_colab_link": true
    },
    "kernelspec": {
      "name": "python3",
      "display_name": "Python 3"
    },
    "language_info": {
      "name": "python"
    }
  },
  "cells": [
    {
      "cell_type": "markdown",
      "metadata": {
        "id": "view-in-github",
        "colab_type": "text"
      },
      "source": [
        "<a href=\"https://colab.research.google.com/github/kv1441/LR_2.2/blob/main/LR_2_2.ipynb\" target=\"_parent\"><img src=\"https://colab.research.google.com/assets/colab-badge.svg\" alt=\"Open In Colab\"/></a>"
      ]
    },
    {
      "cell_type": "code",
      "execution_count": null,
      "metadata": {
        "id": "_c-6kysnIqIk"
      },
      "outputs": [],
      "source": [
        "import numpy as np\n",
        "import pandas as pd\n",
        "import matplotlib.pyplot as plt\n",
        "import statsmodels.api as sm\n",
        "import scipy.stats as stats"
      ]
    },
    {
      "cell_type": "code",
      "source": [
        "x = np.array([165, 156, 498, 3.15, 496, 132, 981, 135, 158, 864, 456, 894])\n",
        "y = np.array([465, 135, 496, 159, 791, 168, 489, 163, 89, 213, 489, 564])"
      ],
      "metadata": {
        "id": "TKIq3gryI9wJ"
      },
      "execution_count": null,
      "outputs": []
    },
    {
      "cell_type": "code",
      "source": [
        "#Расчёты\n",
        "xy = x * y\n",
        "x_squared = x * x\n",
        "y_squared = y * y\n",
        "x_mean = x.mean()\n",
        "y_mean = y.mean()\n",
        "x_x_mean = x - x_mean\n",
        "y_y_mean = y - y_mean\n",
        "x_x_mean_squared = x_x_mean * x_x_mean\n",
        "y_y_mean_squared = y_y_mean * y_y_mean"
      ],
      "metadata": {
        "id": "2Y8fJFSWJwGH"
      },
      "execution_count": null,
      "outputs": []
    },
    {
      "cell_type": "code",
      "source": [
        "sigma_x_squared = x_squared.mean() - pow(x_mean, 2)\n",
        "sigma_y_squared = y_squared.mean() - pow(y_mean, 2)\n",
        "print(\"Сигма по x в квадрате равна\", sigma_x_squared)\n",
        "print(\"Сигма по y в квадрате равна\", sigma_y_squared)"
      ],
      "metadata": {
        "colab": {
          "base_uri": "https://localhost:8080/"
        },
        "id": "a1WOS4rzMVUZ",
        "outputId": "b6b2ffca-21d7-48ea-a057-4aec4872ab11"
      },
      "execution_count": null,
      "outputs": [
        {
          "output_type": "stream",
          "name": "stdout",
          "text": [
            "Сигма по x в квадрате равна 107510.20588541665\n",
            "Сигма по y в квадрате равна 45926.02083333334\n"
          ]
        }
      ]
    },
    {
      "cell_type": "code",
      "source": [
        "b = (xy.mean() - x.mean() * y.mean()) / sigma_x_squared\n",
        "print(\"b равно\", b)\n",
        "a = y.mean() - b * x.mean()\n",
        "print(\"a равно\", a)"
      ],
      "metadata": {
        "colab": {
          "base_uri": "https://localhost:8080/"
        },
        "id": "fGaGY2hrOJTf",
        "outputId": "7cad3974-4cbc-434a-ffae-3718ec5fc513"
      },
      "execution_count": null,
      "outputs": [
        {
          "output_type": "stream",
          "name": "stdout",
          "text": [
            "b равно 0.34866425300079074\n",
            "a равно 208.2703015870121\n"
          ]
        }
      ]
    },
    {
      "cell_type": "code",
      "source": [
        "regression_equation = f\"y = {b:.2f}x + {a:.2f}\"\n",
        "print(\"Уравнение регрессии:\")\n",
        "print(regression_equation)"
      ],
      "metadata": {
        "colab": {
          "base_uri": "https://localhost:8080/"
        },
        "id": "BW-OHZVLPwyQ",
        "outputId": "d74d3048-2ad7-4b3f-b82c-c7b64bba9dca"
      },
      "execution_count": null,
      "outputs": [
        {
          "output_type": "stream",
          "name": "stdout",
          "text": [
            "Уравнение регрессии:\n",
            "y = 0.35x + 208.27\n"
          ]
        }
      ]
    },
    {
      "cell_type": "code",
      "source": [
        "y_regr = a + b * x\n",
        "print(y_regr)"
      ],
      "metadata": {
        "colab": {
          "base_uri": "https://localhost:8080/"
        },
        "id": "Zdmx6RljOnfW",
        "outputId": "0adca69e-ed09-4b70-f751-c8baa4542f38"
      },
      "execution_count": null,
      "outputs": [
        {
          "output_type": "stream",
          "name": "stdout",
          "text": [
            "[265.79990333 262.66192506 381.90509958 209.36859398 381.20777108\n",
            " 254.29398298 550.30993378 255.33997574 263.35925356 509.51621618\n",
            " 367.26120096 519.97614377]\n"
          ]
        }
      ]
    },
    {
      "cell_type": "code",
      "source": [
        "y_y_regr = y - y_regr\n",
        "y_y_regr_squared = y_y_regr * y_y_regr\n",
        "print(y_y_regr)\n",
        "print(y_y_regr_squared)"
      ],
      "metadata": {
        "colab": {
          "base_uri": "https://localhost:8080/"
        },
        "id": "fwS18TkoO3zV",
        "outputId": "9bd80690-a5fb-47ea-c4b2-972d62916280"
      },
      "execution_count": null,
      "outputs": [
        {
          "output_type": "stream",
          "name": "stdout",
          "text": [
            "[ 199.20009667 -127.66192506  114.09490042  -50.36859398  409.79222892\n",
            "  -86.29398298  -61.30993378  -92.33997574 -174.35925356 -296.51621618\n",
            "  121.73879904   44.02385623]\n",
            "[ 39680.67851248  16297.56710878  13017.64630153   2536.99525992\n",
            " 167929.67088699   7446.65149909   3758.9079802    8526.67112006\n",
            "  30401.1493024   87921.86645752  14820.33519283   1938.09991738]\n"
          ]
        }
      ]
    },
    {
      "cell_type": "code",
      "source": [
        "# Точечная диаграмма\n",
        "plt.scatter(x, y, color = '#88c999', s=100)\n",
        "\n",
        "# Значения x для линии тренда\n",
        "x_trend = np.linspace(min(x), max(x), 100)\n",
        "\n",
        "# Значения y для линии тренда\n",
        "y_trend = b * x_trend + a\n",
        "\n",
        "#Линия тренда\n",
        "plt.plot(x_trend, y_trend, color='red', label='Линия тренда')\n",
        "\n",
        "plt.xlim(0, 1000)\n",
        "plt.ylim(0, 1000)\n",
        "plt.grid(True) # Сетка\n",
        "\n",
        "# Названия осей\n",
        "plt.xlabel('X')\n",
        "plt.ylabel('Y')\n",
        "plt.title('Точечная диаграмма')\n",
        "\n",
        "# Вывести диаграмму\n",
        "plt.show()"
      ],
      "metadata": {
        "colab": {
          "base_uri": "https://localhost:8080/",
          "height": 472
        },
        "id": "KeX4NMOaQY36",
        "outputId": "05ad09e1-a178-4d14-9c49-7b17cba84d14"
      },
      "execution_count": null,
      "outputs": [
        {
          "output_type": "display_data",
          "data": {
            "text/plain": [
              "<Figure size 640x480 with 1 Axes>"
            ],
            "image/png": "[encoded data removed]"
          },
          "metadata": {}
        }
      ]
    },
    {
      "cell_type": "code",
      "source": [
        "import math\n",
        "r_xy = (xy.mean() - x.mean() * y.mean()) / math.sqrt(sigma_x_squared * sigma_y_squared)\n",
        "print(\"Линейный коэффициент парной корреляции\", r_xy)\n",
        "# Связь от 0,5 до 0,7 - заметная по шкале Чеддока"
      ],
      "metadata": {
        "colab": {
          "base_uri": "https://localhost:8080/"
        },
        "id": "2jo5jds4UVN5",
        "outputId": "04b10c38-3619-4724-a1ef-d9f2cd5f3dc3"
      },
      "execution_count": null,
      "outputs": [
        {
          "output_type": "stream",
          "name": "stdout",
          "text": [
            "Линейный коэффициент парной корреляции 0.5334612286742499\n"
          ]
        }
      ]
    },
    {
      "cell_type": "code",
      "source": [
        "S = math.sqrt(y_y_regr_squared.sum()/11)\n",
        "print(\"Стандартная ошибка остаточной компоненты\", S)"
      ],
      "metadata": {
        "colab": {
          "base_uri": "https://localhost:8080/"
        },
        "id": "UwPy5nmDVb3G",
        "outputId": "ac466cb3-57ad-449a-c3d0-6a867ae3f767"
      },
      "execution_count": null,
      "outputs": [
        {
          "output_type": "stream",
          "name": "stdout",
          "text": [
            "Стандартная ошибка остаточной компоненты 189.32325399581165\n"
          ]
        }
      ]
    },
    {
      "cell_type": "code",
      "source": [
        "sigma_a = S * math.sqrt(x_squared.sum()/(12*x_x_mean_squared.sum()))\n",
        "sigma_b = (S * S) / math.sqrt(x_x_mean_squared.sum())\n",
        "print(\"Средняя квадратичная ошибка а\", sigma_a)\n",
        "print(\"Средняя квадратичная ошибка b\", sigma_b)"
      ],
      "metadata": {
        "colab": {
          "base_uri": "https://localhost:8080/"
        },
        "id": "xOL3QOBTV80X",
        "outputId": "3c0f1c1d-ad9b-4745-cd16-f82d2ed2f2c0"
      },
      "execution_count": null,
      "outputs": [
        {
          "output_type": "stream",
          "name": "stdout",
          "text": [
            "Средняя квадратичная ошибка а 87.7026884141439\n",
            "Средняя квадратичная ошибка b 31.55676319151826\n"
          ]
        }
      ]
    },
    {
      "cell_type": "code",
      "source": [
        "t_a = a / sigma_a\n",
        "t_b = b / sigma_b\n",
        "print(\"Критерий Стьюдента а\", t_a)\n",
        "print(\"Критерий Стьюдента b\", t_b)\n",
        "# Коэффициент t_a > 2.20, следовательно коэффицент a надёжен\n",
        "# Коэффициент t_b < 2.20, следовательно коэффицент b не надёжен"
      ],
      "metadata": {
        "colab": {
          "base_uri": "https://localhost:8080/"
        },
        "id": "u39V2jnsXEGO",
        "outputId": "306bb13b-e272-4c64-9a2a-d70703ca9104"
      },
      "execution_count": null,
      "outputs": [
        {
          "output_type": "stream",
          "name": "stdout",
          "text": [
            "Критерий Стьюдента а 2.3747310983619077\n",
            "Критерий Стьюдента b 0.011048796446097606\n"
          ]
        }
      ]
    },
    {
      "cell_type": "code",
      "source": [
        "# Расчёт доверительного интервала\n",
        "delta_a = 2.2 * t_a\n",
        "delta_b = 2.2 * t_b\n",
        "a_lower_bound = a - delta_a\n",
        "a_higher_bound = a + delta_a\n",
        "b_lower_bound = b - delta_b\n",
        "b_higher_bound = b + delta_b\n",
        "print(f\"Границы доверительного интервала для коэффициента a от {a_lower_bound} до {a_higher_bound}\")\n",
        "print(f\"Границы доверительного интервала для коэффициента b от {b_lower_bound} до {b_higher_bound}\")"
      ],
      "metadata": {
        "colab": {
          "base_uri": "https://localhost:8080/"
        },
        "id": "DyutjYGzYqdX",
        "outputId": "b902917e-ab72-48c5-bd62-4adc09db0bc3"
      },
      "execution_count": null,
      "outputs": [
        {
          "output_type": "stream",
          "name": "stdout",
          "text": [
            "Границы доверительного интервала для коэффициента a от 203.04589317061593 до 213.4947100034083\n",
            "Границы доверительного интервала для коэффициента b от 0.324356900819376 до 0.37297160518220546\n"
          ]
        }
      ]
    },
    {
      "cell_type": "code",
      "source": [
        "#Чем уже доверительный интервал, тем точнее оценка параметра; если доверительный интервал включает нулевое значение,\n",
        "#то оцениваемый параметр статистически незначим (равен нулю). В границы ноль не входит - коэффициенты статистически значимы"
      ],
      "metadata": {
        "id": "NO2RYnrmadFE"
      },
      "execution_count": null,
      "outputs": []
    },
    {
      "cell_type": "code",
      "source": [
        "#Таким образом, из-за ненадёжности, полученные оценки коэффициента регрессии b не являются эффективными и состоятельными, а само уравнение\n",
        "#y = 0.35x + 208.27\n",
        "#не может использоваться для моделирования и прогнозирования динамики. Это обусловлено большой ошибкой уравнения регрессии.\n"
      ],
      "metadata": {
        "id": "4UZJho2hbNwQ"
      },
      "execution_count": null,
      "outputs": []
    }
  ]
}